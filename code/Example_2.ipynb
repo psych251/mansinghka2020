{
 "cells": [
  {
   "cell_type": "code",
   "execution_count": 2,
   "id": "29d08341",
   "metadata": {},
   "outputs": [
    {
     "data": {
      "text/plain": [
       "foo (generic function with 1 method)"
      ]
     },
     "execution_count": 2,
     "metadata": {},
     "output_type": "execute_result"
    }
   ],
   "source": [
    "include(\"experiments/experiments.jl\")"
   ]
  },
  {
   "cell_type": "code",
   "execution_count": 3,
   "id": "cbb183e6",
   "metadata": {},
   "outputs": [
    {
     "name": "stdout",
     "output_type": "stream",
     "text": [
      "./experiments"
     ]
    }
   ],
   "source": [
    "print(EXPERIMENTS_PATH)"
   ]
  },
  {
   "cell_type": "code",
   "execution_count": null,
   "id": "aad18c92",
   "metadata": {
    "scrolled": true
   },
   "outputs": [],
   "source": [
    "run_domain_experiments(EXPERIMENTS_PATH, \"taxi\", \"suboptimal\", :sips)"
   ]
  }
 ],
 "metadata": {
  "kernelspec": {
   "display_name": "Julia 1.6.3",
   "language": "julia",
   "name": "julia-1.6"
  },
  "language_info": {
   "file_extension": ".jl",
   "mimetype": "application/julia",
   "name": "julia",
   "version": "1.6.3"
  }
 },
 "nbformat": 4,
 "nbformat_minor": 5
}
