{
 "cells": [
  {
   "cell_type": "code",
   "execution_count": 1,
   "id": "88cd51b1",
   "metadata": {},
   "outputs": [
    {
     "name": "stderr",
     "output_type": "stream",
     "text": [
      "┌ Info: Precompiling Plinf [3f517155-95b4-4010-b517-e038c017d66c]\n",
      "└ @ Base loading.jl:1342\n",
      "WARNING: Method definition special_forward_exec!(ReverseDiff.SpecialInstruction{typeof(Base.fill), I, O, C} where C where O where I) in module ReverseDiff at /Users/juliomartinez/.julia/packages/ReverseDiff/OciDO/src/macros.jl:228 overwritten in module Gen at /Users/juliomartinez/.julia/packages/Gen/5JiNL/src/backprop.jl:42.\n",
      "  ** incremental compilation may be fatally broken for this module **\n",
      "\n",
      "WARNING: Method definition special_reverse_exec!(ReverseDiff.SpecialInstruction{typeof(Base.fill), I, O, C} where C where O where I) in module ReverseDiff at /Users/juliomartinez/.julia/packages/ReverseDiff/OciDO/src/macros.jl:212 overwritten in module Gen at /Users/juliomartinez/.julia/packages/Gen/5JiNL/src/backprop.jl:33.\n",
      "  ** incremental compilation may be fatally broken for this module **\n",
      "\n"
     ]
    },
    {
     "data": {
      "text/plain": [
       "run_sips_inference2"
      ]
     },
     "execution_count": 1,
     "metadata": {},
     "output_type": "execute_result"
    }
   ],
   "source": [
    "include(\"experiments/experiments.jl\")"
   ]
  },
  {
   "cell_type": "code",
   "execution_count": 2,
   "id": "1af51c7a",
   "metadata": {},
   "outputs": [
    {
     "name": "stdout",
     "output_type": "stream",
     "text": [
      "./experiments"
     ]
    }
   ],
   "source": [
    "print(EXPERIMENTS_PATH)"
   ]
  },
  {
   "cell_type": "code",
   "execution_count": null,
   "id": "5d044b9f",
   "metadata": {},
   "outputs": [],
   "source": [
    "function world_particle_filter2(\n",
    "    world_init::WorldInit,\n",
    "    world_config::WorldConfig,\n",
    "    observed_trajectory::Vector{State},\n",
    "    observed_terms::Vector{<:Term},\n",
    "    num__particles::Int;\n",
    "    strata=nothing,\n",
    "    callback=nothing,\n",
    "    resample=true,\n",
    "    rejuvenate=nothing)\n",
    "    \n",
    "    threshold::Float64=1/4\n",
    "    @unpack domain = world_config\n",
    "    num_observations = length(observed_trajectory) \n",
    "    time_steps = collect(1:num_observations)\n",
    "    observed_traj_choices = traj_choicemaps(observed_trajectory, \n",
    "                                            domain, \n",
    "                                            observed_terms)\n",
    "    \n",
    "    world_args = (world_init, world_config)\n",
    "    argdiffs = (UnknownChange(), NoChange(), NoChange()) # Gen types, \n",
    "                                                         # UknownChannge: no information of change is provided\n",
    "                                                         # NoChange: value is unchanged\n",
    "    \n",
    "    # if strata=nothing then this simply calls initialize_particle_filter\n",
    "    beleif_state =  initialize_pf_stratified(world_model,    # world model\n",
    "                                         (0, world_args...), # the initial arugments for the world model\n",
    "                                         choicemap(),        # initial observations expressed as choicemap\n",
    "                                         strata,             # goal_strata\n",
    "                                         num_particles)        # number of particles\n",
    "    \n",
    "    # iterate through each timestep\n",
    "    for (time_step, t) in enumerate(time_steps)\n",
    "        if resample && get_ess(beleif_state) < (num_particles * threshold)\n",
    "            @debug \"Resampling...\"\n",
    "            pf_residual_resample!(beleif_state, priority_fn=w->w*0.75)\n",
    "            if rejuvenate != nothing \n",
    "                rejuvenate(beleif_state) \n",
    "            end\n",
    "        end\n",
    "        \n",
    "        t_prev = t-1\n",
    "        if time_step == 1\n",
    "            t_prev = 0\n",
    "        end\n",
    "            \n",
    "        pf_update!(beleif_state, \n",
    "                   (t, world_args...), \n",
    "                   argdiffs, \n",
    "                   observed_traj_choices[time_step])\n",
    "          \n",
    "        if callback != nothing \n",
    "            traces_t = get_traces(beleif_state)\n",
    "            weights_t = get_log_norm_weights(beleif_state)\n",
    "            callback(t, observed_trajectory[t], traces_t, weights_t)\n",
    "        end\n",
    "    \n",
    "    end\n",
    "        \n",
    "    traces = get_traces(beleif_state)\n",
    "    weights = get_log_norm_weights(beleif_state)\n",
    "    lml_est = logsumexp(get_log_weights(beleif_state)) - log(num_particles)    \n",
    "    return traces, weights, lml_est\n",
    "end\n"
   ]
  },
  {
   "cell_type": "code",
   "execution_count": null,
   "id": "80736a10",
   "metadata": {},
   "outputs": [],
   "source": [
    "priority_fn=w->w*0.75"
   ]
  },
  {
   "cell_type": "code",
   "execution_count": null,
   "id": "445c7a7c",
   "metadata": {},
   "outputs": [],
   "source": [
    "priority_fn(1)"
   ]
  },
  {
   "cell_type": "code",
   "execution_count": null,
   "id": "4a3e4fc2",
   "metadata": {},
   "outputs": [],
   "source": [
    "priority_fn(3)"
   ]
  },
  {
   "cell_type": "code",
   "execution_count": null,
   "id": "9a21587d",
   "metadata": {},
   "outputs": [],
   "source": [
    "3*.75"
   ]
  },
  {
   "cell_type": "code",
   "execution_count": null,
   "id": "889da109",
   "metadata": {},
   "outputs": [],
   "source": []
  }
 ],
 "metadata": {
  "kernelspec": {
   "display_name": "Julia 1.6.3",
   "language": "julia",
   "name": "julia-1.6"
  },
  "language_info": {
   "file_extension": ".jl",
   "mimetype": "application/julia",
   "name": "julia",
   "version": "1.6.3"
  }
 },
 "nbformat": 4,
 "nbformat_minor": 5
}
