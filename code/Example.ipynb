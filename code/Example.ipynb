{
 "cells": [
  {
   "cell_type": "code",
   "execution_count": null,
   "id": "6942b329",
   "metadata": {},
   "outputs": [],
   "source": [
    "include(\"experiments/experiments.jl\")"
   ]
  },
  {
   "cell_type": "code",
   "execution_count": null,
   "id": "eff33ae7",
   "metadata": {},
   "outputs": [],
   "source": [
    "print(EXPERIMENTS_PATH)"
   ]
  },
  {
   "cell_type": "code",
   "execution_count": null,
   "id": "8b5f3654",
   "metadata": {
    "scrolled": false
   },
   "outputs": [],
   "source": [
    "run_domain_experiments(EXPERIMENTS_PATH, \"taxi\", \"optimal\", :sips)"
   ]
  },
  {
   "cell_type": "code",
   "execution_count": null,
   "id": "acabddc8",
   "metadata": {},
   "outputs": [],
   "source": []
  }
 ],
 "metadata": {
  "kernelspec": {
   "display_name": "Julia 1.6.3",
   "language": "julia",
   "name": "julia-1.6"
  },
  "language_info": {
   "file_extension": ".jl",
   "mimetype": "application/julia",
   "name": "julia",
   "version": "1.6.3"
  }
 },
 "nbformat": 4,
 "nbformat_minor": 5
}
