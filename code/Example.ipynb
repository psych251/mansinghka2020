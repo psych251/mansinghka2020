{
 "cells": [
  {
   "cell_type": "code",
   "execution_count": 3,
   "id": "6942b329",
   "metadata": {},
   "outputs": [
    {
     "data": {
      "text/plain": [
       "analyze_domain_results"
      ]
     },
     "execution_count": 3,
     "metadata": {},
     "output_type": "execute_result"
    }
   ],
   "source": [
    "include(\"experiments/experiments.jl\")"
   ]
  },
  {
   "cell_type": "code",
   "execution_count": 4,
   "id": "eff33ae7",
   "metadata": {},
   "outputs": [
    {
     "name": "stdout",
     "output_type": "stream",
     "text": [
      "./experiments"
     ]
    }
   ],
   "source": [
    "print(EXPERIMENTS_PATH)"
   ]
  },
  {
   "cell_type": "code",
   "execution_count": 5,
   "id": "8b5f3654",
   "metadata": {
    "scrolled": false
   },
   "outputs": [
    {
     "name": "stdout",
     "output_type": "stream",
     "text": [
      "Running experiments for problem 0...\n",
      "Inferring goals for trajectory 0, goal 0...\n",
      "True goal: and(passenger-at(green))\n",
      "Running reimplementation of particle filter for SIPS\n",
      "Timestep 1\n",
      "Timestep 2\n",
      "Timestep 3\n",
      "Timestep 4\n",
      "Timestep 5\n",
      "Timestep 6\n",
      "Timestep 7\n",
      "Timestep 8\n",
      "Timestep 9\n",
      "Timestep 10\n",
      "Timestep 11\n",
      "Timestep 12\n",
      "Timestep 13\n",
      "Writing results to taxi_problem_0_goal0.csv...\n",
      "Inferring goals for trajectory 1, goal 1...\n",
      "True goal: and(passenger-at(yellow))\n",
      "Running reimplementation of particle filter for SIPS\n",
      "Timestep 1\n",
      "Timestep 2\n",
      "Timestep 3\n",
      "Timestep 4\n",
      "Timestep 5\n",
      "Timestep 6\n",
      "Timestep 7\n",
      "Timestep 8\n",
      "Timestep 9\n",
      "Writing results to taxi_problem_0_goal1.csv...\n",
      "Inferring goals for trajectory 2, goal 2...\n",
      "True goal: and(passenger-at(blue))\n",
      "Running reimplementation of particle filter for SIPS\n",
      "Timestep 1\n",
      "Timestep 2\n",
      "Timestep 3\n",
      "Timestep 4\n",
      "Timestep 5\n",
      "Timestep 6\n",
      "Timestep 7\n",
      "Timestep 8\n",
      "Timestep 9\n",
      "Timestep 10\n",
      "Timestep 11\n",
      "Timestep 12\n",
      "Writing results to taxi_problem_0_goal2.csv...\n",
      "Writing summary results to taxi_problem_0_summary.csv...\n",
      "Running experiments for problem 1...\n",
      "Inferring goals for trajectory 0, goal 0...\n",
      "True goal: and(passenger-at(red))\n",
      "Running reimplementation of particle filter for SIPS\n",
      "Timestep 1\n",
      "Timestep 2\n",
      "Timestep 3\n"
     ]
    },
    {
     "ename": "LoadError",
     "evalue": "InterruptException:",
     "output_type": "error",
     "traceback": [
      "InterruptException:",
      "",
      "Stacktrace:",
      "  [1] hash(t::Const, h::UInt64)",
      "    @ Julog ~/.julia/packages/Julog/S36TA/src/structs.jl:39",
      "  [2] hash",
      "    @ ./hashing.jl:18 [inlined]",
      "  [3] hashindex",
      "    @ ./dict.jl:169 [inlined]",
      "  [4] ht_keyindex2!(h::Dict{Term, Any}, key::Const)",
      "    @ Base ./dict.jl:310",
      "  [5] setindex!(h::Dict{Term, Any}, v0::Tuple{typeof(+), Int64}, key::Const)",
      "    @ Base ./dict.jl:383",
      "  [6] effect_diff(effect::Compound, state::State, domain::Domain)",
      "    @ PDDL ~/.julia/packages/PDDL/eCv9B/src/effects.jl:76",
      "  [7] effect_diff(effect::Compound, state::State, domain::Domain)",
      "    @ PDDL ~/.julia/packages/PDDL/eCv9B/src/effects.jl:43",
      "  [8] execute(act::Action, args::Vector{Term}, state::State, domain::Domain; as_dist::Bool, as_diff::Bool, check::Bool, fail_mode::Symbol)",
      "    @ PDDL ~/.julia/packages/PDDL/eCv9B/src/actions.jl:231",
      "  [9] execute(act::Compound, state::State, domain::Domain; options::Base.Iterators.Pairs{Symbol, Any, Tuple{Symbol, Symbol}, NamedTuple{(:check, :fail_mode), Tuple{Bool, Symbol}}})",
      "    @ PDDL ~/.julia/packages/PDDL/eCv9B/src/actions.jl:240",
      " [10] transition(domain::Domain, state::State, action::Compound; check::Bool, fail_mode::Symbol)",
      "    @ PDDL ~/.julia/packages/PDDL/eCv9B/src/core.jl:111",
      " [11] var\"##aprob_call#300\"(state#257::Gen.GFGenerateState, planner::ProbAStarPlanner, domain::Domain, state::State, goal_spec::GoalSpec)",
      "    @ Plinf ~/Documents/Repositories/zhi-xuan2020/code/src/planners/astar.jl:122",
      " [12] exec(gf::DynamicDSLFunction{Any}, state::Gen.GFGenerateState, args::Tuple{ProbAStarPlanner, Domain, State, GoalSpec})",
      "    @ Gen ~/.julia/packages/Gen/5JiNL/src/dynamic/dynamic.jl:54",
      " [13] splice(state::Gen.GFGenerateState, gen_fn::DynamicDSLFunction{Any}, args::Tuple{ProbAStarPlanner, Domain, State, GoalSpec})",
      "    @ Gen ~/.julia/packages/Gen/5JiNL/src/dynamic/generate.jl:76",
      " [14] var\"##sample_plan#280\"(state#257::Gen.GFGenerateState, planner::ProbAStarPlanner, domain::Domain, state::State, goal_spec::GoalSpec)",
      "    @ Plinf ~/Documents/Repositories/zhi-xuan2020/code/src/planners/planners.jl:48",
      " [15] exec(gf::DynamicDSLFunction{Any}, state::Gen.GFGenerateState, args::Tuple{ProbAStarPlanner, Domain, State, GoalSpec})",
      "    @ Gen ~/.julia/packages/Gen/5JiNL/src/dynamic/dynamic.jl:54",
      " [16] generate(gen_fn::DynamicDSLFunction{Any}, args::Tuple{ProbAStarPlanner, Domain, State, GoalSpec}, constraints::EmptyChoiceMap)",
      "    @ Gen ~/.julia/packages/Gen/5JiNL/src/dynamic/generate.jl:84",
      " [17] traceat(state::Gen.GFGenerateState, gen_fn::DynamicDSLFunction{Any}, args::Tuple{ProbAStarPlanner, Domain, State, GoalSpec}, key::Symbol)",
      "    @ Gen ~/.julia/packages/Gen/5JiNL/src/dynamic/generate.jl:58",
      " [18] var\"##replan_step#288\"(state#257::Gen.GFGenerateState, t::Int64, rp::Plinf.ReplanState, replanner::Replanner, domain::Domain, state::State, goal_spec::GoalSpec)",
      "    @ Plinf ~/Documents/Repositories/zhi-xuan2020/code/src/planners/replanners.jl:91",
      " [19] exec(gf::DynamicDSLFunction{Any}, state::Gen.GFGenerateState, args::Tuple{Int64, Plinf.ReplanState, Replanner, Domain, State, GoalSpec})",
      "    @ Gen ~/.julia/packages/Gen/5JiNL/src/dynamic/dynamic.jl:54",
      " [20] generate(gen_fn::DynamicDSLFunction{Any}, args::Tuple{Int64, Plinf.ReplanState, Replanner, Domain, State, GoalSpec}, constraints::EmptyChoiceMap)",
      "    @ Gen ~/.julia/packages/Gen/5JiNL/src/dynamic/generate.jl:84",
      " [21] traceat(state::Gen.GFGenerateState, gen_fn::DynamicDSLFunction{Any}, args::Tuple{Int64, Plinf.ReplanState, Replanner, Domain, State, GoalSpec}, key::Symbol)",
      "    @ Gen ~/.julia/packages/Gen/5JiNL/src/dynamic/generate.jl:58",
      " [22] var\"##world_step#324\"(state#257::Gen.GFGenerateState, t::Int64, world_state::WorldState, config::WorldConfig)",
      "    @ Plinf ~/Documents/Repositories/zhi-xuan2020/code/src/worlds.jl:80",
      " [23] exec(gf::DynamicDSLFunction{Any}, state::Gen.GFGenerateState, args::Tuple{Int64, WorldState, WorldConfig})",
      "    @ Gen ~/.julia/packages/Gen/5JiNL/src/dynamic/dynamic.jl:54",
      " [24] generate(gen_fn::DynamicDSLFunction{Any}, args::Tuple{Int64, WorldState, WorldConfig}, constraints::DynamicChoiceMap)",
      "    @ Gen ~/.julia/packages/Gen/5JiNL/src/dynamic/generate.jl:84",
      " [25] process_new!(gen_fn::Unfold{Any, Gen.DynamicDSLTrace}, params::Tuple{WorldConfig}, choices::DynamicChoiceMap, key::Int64, state::Gen.UnfoldUpdateState{Any, Gen.DynamicDSLTrace})",
      "    @ Gen ~/.julia/packages/Gen/5JiNL/src/modeling_library/unfold/update.jl:65",
      " [26] process_all_new!(gen_fn::Unfold{Any, Gen.DynamicDSLTrace}, params::Tuple{WorldConfig}, choices_or_selection::DynamicChoiceMap, prev_len::Int64, new_len::Int64, state::Gen.UnfoldUpdateState{Any, Gen.DynamicDSLTrace})",
      "    @ Gen ~/.julia/packages/Gen/5JiNL/src/modeling_library/unfold/generic_update.jl:58",
      " [27] update(trace::Gen.VectorTrace{Gen.UnfoldType, Any, Gen.DynamicDSLTrace}, args::Tuple{Int64, WorldState, WorldConfig}, argdiffs::Tuple{UnknownChange, NoChange, NoChange}, choices::DynamicChoiceMap)",
      "    @ Gen ~/.julia/packages/Gen/5JiNL/src/modeling_library/unfold/update.jl:103",
      " [28] macro expansion",
      "    @ ~/.julia/packages/Gen/5JiNL/src/static_ir/update.jl:560 [inlined]",
      " [29] update(trace::Plinf.var\"##StaticIRTrace_world_model#361\", args::Tuple{Int64, WorldInit, WorldConfig}, argdiffs::Tuple{UnknownChange, NoChange, NoChange}, constraints::StaticChoiceMap{(), Tuple{}, (:timestep,), Tuple{DynamicChoiceMap}})",
      "    @ Plinf ~/.julia/packages/Gen/5JiNL/src/static_ir/update.jl:560",
      " [30] macro expansion",
      "    @ ~/.julia/packages/Gen/5JiNL/src/static_ir/update.jl:474 [inlined]",
      " [31] update(trace::Plinf.var\"##StaticIRTrace_world_model#361\", args::Tuple{Int64, WorldInit, WorldConfig}, argdiffs::Tuple{UnknownChange, NoChange, NoChange}, constraints::DynamicChoiceMap)",
      "    @ Plinf ~/.julia/packages/Gen/5JiNL/src/static_ir/update.jl:560",
      " [32] pf_update!(state::Gen.ParticleFilterState{Plinf.var\"##StaticIRTrace_world_model#361\"}, new_args::Tuple{Int64, WorldInit, WorldConfig}, argdiffs::Tuple{UnknownChange, NoChange, NoChange}, observations::DynamicChoiceMap)",
      "    @ GenParticleFilters ~/.julia/packages/GenParticleFilters/Vw90d/src/update.jl:16",
      " [33] particle_filter_reimplementation(world_init::WorldInit, world_config::WorldConfig, observed_trajectory::Vector{State}, observed_terms::Vector{Term}, num_particles::Int64; strata::Dict{Pair{Symbol, Symbol}, Vector{Int64}}, callback::var\"#data_callback#113\"{Int64, Vector{Compound}, Vector{String}, Vector{Float64}, IOBuffer}, resample::Bool, rejuvenate::Nothing)",
      "    @ Plinf ~/Documents/Repositories/zhi-xuan2020/code/src/inference/inference.jl:161",
      " [34] (::var\"#111#117\"{Vector{State}, Vector{Term}, WorldInit, WorldConfig, Dict{Pair{Symbol, Symbol}, Vector{Int64}}, Int64, Dict{Union{Nothing, Symbol}, Union{Nothing, Function}}, var\"#data_callback#113\"{Int64, Vector{Compound}, Vector{String}, Vector{Float64}, IOBuffer}})()",
      "    @ Main ~/Documents/Repositories/zhi-xuan2020/code/experiments/experiments.jl:299",
      " [35] with_logstate(f::Function, logstate::Any)",
      "    @ Base.CoreLogging ./logging.jl:491",
      " [36] with_logger",
      "    @ ./logging.jl:603 [inlined]",
      " [37] run_sips_inference(goal_idx::Int64, traj::Vector{State}, goals::Vector{Compound}, obs_terms::Vector{Term}, world_init::WorldInit, world_config::WorldConfig)",
      "    @ Main ~/Documents/Repositories/zhi-xuan2020/code/experiments/experiments.jl:298",
      " [38] run_problem_experiments(path::String, domain_name::String, problem_idx::Int64, obs_subdir::String, method::Symbol)",
      "    @ Main ~/Documents/Repositories/zhi-xuan2020/code/experiments/experiments.jl:384",
      " [39] run_domain_experiments(path::String, domain_name::String, obs_subdir::String, method::Symbol)",
      "    @ Main ~/Documents/Repositories/zhi-xuan2020/code/experiments/experiments.jl:510",
      " [40] top-level scope",
      "    @ In[5]:1",
      " [41] eval",
      "    @ ./boot.jl:360 [inlined]",
      " [42] include_string(mapexpr::typeof(REPL.softscope), mod::Module, code::String, filename::String)",
      "    @ Base ./loading.jl:1116"
     ]
    }
   ],
   "source": [
    "run_domain_experiments(EXPERIMENTS_PATH, \"taxi\", \"optimal\", :sips)"
   ]
  },
  {
   "cell_type": "code",
   "execution_count": null,
   "id": "0e1aa5a4",
   "metadata": {},
   "outputs": [],
   "source": []
  }
 ],
 "metadata": {
  "kernelspec": {
   "display_name": "Julia 1.6.3",
   "language": "julia",
   "name": "julia-1.6"
  },
  "language_info": {
   "file_extension": ".jl",
   "mimetype": "application/julia",
   "name": "julia",
   "version": "1.6.3"
  }
 },
 "nbformat": 4,
 "nbformat_minor": 5
}
